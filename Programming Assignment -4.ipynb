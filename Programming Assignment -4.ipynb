{
 "cells": [
  {
   "cell_type": "code",
   "execution_count": null,
   "id": "b6612592",
   "metadata": {},
   "outputs": [],
   "source": [
    "#1.\tWrite a Python Program to Find the Factorial of a Number?\n",
    "i = int(input(\"enter a number:\"))\n",
    "fac = 1\n",
    "while (i>0):\n",
    "    fac= fac*i\n",
    "    i= i-1\n",
    "print(\"factorial =\", fac)\n",
    "            "
   ]
  },
  {
   "cell_type": "code",
   "execution_count": null,
   "id": "5cefeafe",
   "metadata": {},
   "outputs": [],
   "source": []
  },
  {
   "cell_type": "code",
   "execution_count": 6,
   "id": "da3dcd80",
   "metadata": {},
   "outputs": [
    {
     "name": "stdout",
     "output_type": "stream",
     "text": [
      "enter the number4\n",
      "4 x 0 = 0\n",
      "4 x 1 = 4\n",
      "4 x 2 = 8\n",
      "4 x 3 = 12\n",
      "4 x 4 = 16\n",
      "4 x 5 = 20\n",
      "4 x 6 = 24\n",
      "4 x 7 = 28\n",
      "4 x 8 = 32\n",
      "4 x 9 = 36\n",
      "4 x 10 = 40\n"
     ]
    }
   ],
   "source": [
    "# 2.\tWrite a Python Program to Display the multiplication Table?\n",
    "\n",
    "num = int(input(\"enter the number\"))\n",
    "for i in range(0,11):\n",
    "        print(num, 'x', i ,'=',num*i)\n",
    "      "
   ]
  },
  {
   "cell_type": "code",
   "execution_count": 10,
   "id": "81c2a178",
   "metadata": {},
   "outputs": [
    {
     "name": "stdout",
     "output_type": "stream",
     "text": [
      "How many terms? 12\n",
      "Fibonacci sequence:\n",
      "0\n",
      "1\n",
      "1\n",
      "2\n",
      "3\n",
      "5\n",
      "8\n",
      "13\n",
      "21\n",
      "34\n",
      "55\n",
      "89\n"
     ]
    }
   ],
   "source": [
    "#3.\tWrite a Python Program to Print the Fibonacci sequence?\n",
    "\n",
    "nterms = int(input(\"How many terms? \"))\n",
    "\n",
    "# first two terms\n",
    "n1, n2 = 0, 1\n",
    "count = 0\n",
    "\n",
    "# check if the number of terms is valid\n",
    "if nterms <= 0:\n",
    "   print(\"Please enter a positive integer\")\n",
    "# if there is only one term, return n1\n",
    "elif nterms == 1:\n",
    "   print(\"Fibonacci sequence upto\",nterms,\":\")\n",
    "   print(n1)\n",
    "# generate fibonacci sequence\n",
    "else:\n",
    "   print(\"Fibonacci sequence:\")\n",
    "   while count < nterms:\n",
    "       print(n1)\n",
    "       nth = n1 + n2\n",
    "       # update values\n",
    "       n1 = n2\n",
    "       n2 = nth\n",
    "       count += 1\n",
    "        \n"
   ]
  },
  {
   "cell_type": "code",
   "execution_count": 3,
   "id": "8bee80e5",
   "metadata": {},
   "outputs": [
    {
     "name": "stdout",
     "output_type": "stream",
     "text": [
      "enter a number1634\n",
      "Armstrong number\n"
     ]
    }
   ],
   "source": [
    "#4.\tWrite a Python Program to Check Armstrong Number?\n",
    "\n",
    "num = int(input(\"enter a number\"))\n",
    "m= len(str(num))\n",
    "temp = num\n",
    "sum = 0\n",
    "while temp!=0:\n",
    "    k= temp%10\n",
    "    sum = sum+ k**m\n",
    "    \n",
    "    temp = temp//10\n",
    "if sum== num:\n",
    "    print(\"Armstrong number\")\n",
    "else:\n",
    "    print(\"Not Armstrong\")\n",
    "        "
   ]
  },
  {
   "cell_type": "code",
   "execution_count": 12,
   "id": "e238617c",
   "metadata": {},
   "outputs": [
    {
     "name": "stdout",
     "output_type": "stream",
     "text": [
      "153\n",
      "370\n",
      "371\n",
      "407\n",
      "1634\n",
      "8208\n",
      "9474\n"
     ]
    }
   ],
   "source": [
    "# 5.\tWrite a Python Program to Find Armstrong Number in an Interval?\n",
    "\n",
    "lower_limit = 100\n",
    "upper_limit = 10000\n",
    "#num = int(input(\"enter a number\")\n",
    "for num in range(lower_limit,upper_limit+1):\n",
    "    sum=0\n",
    "    m= len(str(num)) #to find order/degree of the number\n",
    "    temp = num\n",
    "    while temp!=0:\n",
    "        k=temp%10 #to get the last digit of the number\n",
    "        sum = sum+k**m\n",
    "        temp = temp//10 #floor division to get the number updated after removing last digit\n",
    "    if sum==num:\n",
    "        print(num)\n",
    "    \n"
   ]
  },
  {
   "cell_type": "code",
   "execution_count": 23,
   "id": "94aedb78",
   "metadata": {},
   "outputs": [
    {
     "name": "stdout",
     "output_type": "stream",
     "text": [
      "enter nth term upto which you want to calculate the sum:20\n",
      "Sum of natural numbers is 210\n"
     ]
    }
   ],
   "source": [
    "#6.\tWrite a Python Program to Find the Sum of Natural Numbers?\n",
    "\n",
    "nth_term = int(input(\"enter nth term upto which you want to calculate the sum:\"))\n",
    "sum = 0\n",
    "for i in range(0,nth_term+1):\n",
    "    sum = sum+i\n",
    "    if i == nth_term:\n",
    "        print(\"Sum of natural numbers is\", sum)"
   ]
  },
  {
   "cell_type": "code",
   "execution_count": null,
   "id": "e0bb8321",
   "metadata": {},
   "outputs": [],
   "source": []
  }
 ],
 "metadata": {
  "kernelspec": {
   "display_name": "Python 3 (ipykernel)",
   "language": "python",
   "name": "python3"
  },
  "language_info": {
   "codemirror_mode": {
    "name": "ipython",
    "version": 3
   },
   "file_extension": ".py",
   "mimetype": "text/x-python",
   "name": "python",
   "nbconvert_exporter": "python",
   "pygments_lexer": "ipython3",
   "version": "3.9.7"
  }
 },
 "nbformat": 4,
 "nbformat_minor": 5
}
